{
 "cells": [
  {
   "cell_type": "markdown",
   "metadata": {},
   "source": [
    "# A simple example for logistic regression\n",
    "This notebook calculates a logistic regression using TensorFlow. It's basically meant to show the principles of TensorFlow.\n",
    "\n",
    "## Datset\n",
    "\n",
    "We investigate the data set of the challenger flight with broken O-rings (Y=1) vs start temperature."
   ]
  },
  {
   "cell_type": "code",
   "execution_count": 1,
   "metadata": {},
   "outputs": [
    {
     "data": {
      "text/plain": [
       "Text(0,0.5,'Broken O-rings')"
      ]
     },
     "execution_count": 1,
     "metadata": {},
     "output_type": "execute_result"
    },
    {
     "data": {
      "image/png": "[encoded data removed]",
      "text/plain": [
       "<matplotlib.figure.Figure at 0x189faed0160>"
      ]
     },
     "metadata": {},
     "output_type": "display_data"
    }
   ],
   "source": [
    "%matplotlib inline\n",
    "import numpy as np\n",
    "import tensorflow as tf\n",
    "import matplotlib.pyplot as plt\n",
    "import matplotlib.image as imgplot\n",
    "import numpy as np\n",
    "import pandas as pd\n",
    "import tempfile\n",
    "data = np.asarray(pd.read_csv('../data/challenger.txt', sep=','), dtype='float32')\n",
    "plt.plot(data[:,0], data[:,1], 'o')\n",
    "plt.axis([40, 85, -0.1, 1.2])\n",
    "plt.xlabel('Temperature [F]')\n",
    "plt.ylabel('Broken O-rings')"
   ]
  },
  {
   "cell_type": "code",
   "execution_count": 2,
   "metadata": {
    "collapsed": true
   },
   "outputs": [],
   "source": [
    "y_values = data[:,1]"
   ]
  },
  {
   "cell_type": "markdown",
   "metadata": {},
   "source": [
    "## Mathematical Notes\n",
    "We are considering the likelihood $p(y_i=1|x_i)$ for the class $y_i=1$ given the $i-$th data point $x_i$ ($x_i$ could be a vector). This is given by:\n",
    "$\n",
    "p(y_i=1 | x_i) = \\frac{e^{(b + W' x_i)}}{1 + e^{(b + W' x_i)}} = [1 + e^{-(b + W' x_i)}]^{-1}\n",
    "$\n",
    "\n",
    "If we have more than one data point, which we usually do, we have to apply the equation above to each of the N data points. In this case we can used a vectorized version with $x=(x_1,x_2,\\ldots,x_N)$ and $y=(y_1,y_2,\\ldots,y_N$)"
   ]
  },
  {
   "cell_type": "markdown",
   "metadata": {},
   "source": [
    "### Numpy code\n",
    "This numpy code, shows the calculation for one value using numpy (like a single forward pass)"
   ]
  },
  {
   "cell_type": "code",
   "execution_count": 3,
   "metadata": {},
   "outputs": [
    {
     "name": "stdout",
     "output_type": "stream",
     "text": [
      "3.88292\n",
      "[ 0.99900001  0.99800003  0.99800003  0.99800003  0.99900001  0.99599999\n",
      "  0.99599999  0.99800003  1.          0.99900001  0.99800003  0.98799998\n",
      "  0.99900001  1.          0.99900001  0.99299997  0.99800003  0.97799999\n",
      "  0.99199998  0.98500001  0.99299997  0.99199998  1.        ]\n"
     ]
    }
   ],
   "source": [
    "# Data\n",
    "N = len(data)\n",
    "x = data[:,0]\n",
    "y = data[:,1]\n",
    "# Initial Value for the weights\n",
    "w = -0.20\n",
    "b = 20.0\n",
    "# Log-Likelihood \n",
    "p_1 = 1 / (1 + np.exp(-x*w - b))\n",
    "like = y * np.log(p_1) + (1-y) * np.log(1-p_1)\n",
    "print(-np.mean(like))\n",
    "print(np.round(p_1,3))"
   ]
  },
  {
   "cell_type": "markdown",
   "metadata": {},
   "source": [
    "## Better values from intuition"
   ]
  },
  {
   "cell_type": "code",
   "execution_count": 4,
   "metadata": {},
   "outputs": [
    {
     "name": "stdout",
     "output_type": "stream",
     "text": [
      "0.909443\n",
      "[ 0.26899999  0.007       0.018       0.047       0.119       0.001       0.\n",
      "  0.007       1.          0.88099998  0.007       0.          0.119       1.\n",
      "  0.119       0.          0.007       0.          0.          0.          0.\n",
      "  0.          0.99900001]\n"
     ]
    },
    {
     "data": {
      "image/png": "[encoded data removed]",
      "text/plain": [
       "<matplotlib.figure.Figure at 0x18980275198>"
      ]
     },
     "metadata": {},
     "output_type": "display_data"
    }
   ],
   "source": [
    "w_val = -1\n",
    "b_val = 65\n",
    "plt.plot(data[:,0], data[:,1], 'o')\n",
    "plt.axis([40, 85, -0.1, 1.2])\n",
    "x_pred = np.linspace(40,85)\n",
    "x_pred = np.resize(x_pred,[len(x_pred),1])\n",
    "y_pred = 1 / (1 + np.exp(-x_pred*w_val - b_val))\n",
    "plt.plot(x_pred, y_pred)\n",
    "\n",
    "p_1 = 1 / (1 + np.exp(-x*w_val - b_val))\n",
    "like = y * np.log(p_1) + (1-y) * np.log(1-p_1)\n",
    "print(-np.mean(like))\n",
    "print(np.round(p_1,3))"
   ]
  },
  {
   "cell_type": "markdown",
   "metadata": {},
   "source": [
    "### Tensorflow Code (forward pass)"
   ]
  },
  {
   "cell_type": "code",
   "execution_count": 5,
   "metadata": {},
   "outputs": [
    {
     "name": "stdout",
     "output_type": "stream",
     "text": [
      "0.909443\n",
      "[  2.68941432e-01   6.69285096e-03   1.79862101e-02   4.74258736e-02\n",
      "   1.19202919e-01   9.11051175e-04   3.35350138e-04   6.69285096e-03\n",
      "   9.99664664e-01   8.80797029e-01   6.69285096e-03   2.26032444e-06\n",
      "   1.19202919e-01   9.99993801e-01   1.19202919e-01   4.53978719e-05\n",
      "   6.69285096e-03   1.12535155e-07   1.67014223e-05   8.31528041e-07\n",
      "   4.53978719e-05   1.67014223e-05   9.99089003e-01]\n"
     ]
    }
   ],
   "source": [
    "import tensorflow as tf\n",
    "tf.reset_default_graph() #Just to be sure to start with an empty graph\n",
    "\n",
    "x = tf.placeholder('float32', [N], name='x_data')\n",
    "y = tf.placeholder('float32', [N], name='y_data')\n",
    "# Initial weights with initial values\n",
    "w = tf.Variable(-1.0, name = 'w') \n",
    "b = tf.Variable(65.0, name = 'b')\n",
    "\n",
    "init_op = tf.global_variables_initializer() \n",
    "p_1 = 1 / (1 + tf.exp(-x*w - b))\n",
    "like = y * tf.log(p_1) + (1-y) * tf.log(1-p_1)\n",
    "loss = -tf.reduce_mean(like) #<----- All up to now is a symbolic definition of a graph\n",
    "with tf.Session() as sess:\n",
    "    sess.run(init_op) #Doing the initialization on the concrete realization of the graph\n",
    "    loss_, p_1_val = sess.run(fetches = (loss, p_1), feed_dict={x:data[:,0], y:data[:,1]})\n",
    "    print(loss_)\n",
    "    print(p_1_val)"
   ]
  },
  {
   "cell_type": "markdown",
   "metadata": {},
   "source": [
    "### Better values with gradient descent\n"
   ]
  },
  {
   "cell_type": "code",
   "execution_count": 6,
   "metadata": {},
   "outputs": [
    {
     "name": "stdout",
     "output_type": "stream",
     "text": [
      "i=0 loss=0.9094434976577759\n",
      "i=100 loss=0.7655227780342102\n",
      "i=200 loss=0.7655167579650879\n",
      "i=300 loss=0.7655097246170044\n",
      "i=400 loss=0.7655035257339478\n",
      "i=500 loss=0.7654967904090881\n",
      "i=600 loss=0.7654904723167419\n",
      "i=700 loss=0.765484094619751\n",
      "i=800 loss=0.7654770612716675\n",
      "i=900 loss=0.7654702663421631\n",
      "loss 0.7654646039009094 w -0.9664034843444824 b 64.99285125732422\n"
     ]
    }
   ],
   "source": [
    "train_op = tf.train.GradientDescentOptimizer(0.001).minimize(loss)\n",
    "#train_op = tf.train.AdagradOptimizer(0.1).minimize(loss)\n",
    "with tf.Session() as sess:\n",
    "    sess.run(init_op) #Doing the initialization on the concrete realization of the graph\n",
    "    for i in range(1000):\n",
    "        loss_, _, w_val, b_val = sess.run(fetches=(loss, train_op, w, b), feed_dict={x:data[:,0], y:data[:,1]})\n",
    "        if (i % 100 == 0):\n",
    "            print(\"i={} loss={}\".format(i,loss_))\n",
    "print (\"loss {} w {} b {}\".format(loss_, w_val, b_val))"
   ]
  },
  {
   "cell_type": "markdown",
   "metadata": {},
   "source": [
    "### Storing of the graph"
   ]
  },
  {
   "cell_type": "code",
   "execution_count": 7,
   "metadata": {
    "collapsed": true
   },
   "outputs": [],
   "source": [
    "with tf.Session() as sess:\n",
    "    sess.run(init_op)\n",
    "    writer = tf.summary.FileWriter(\"tmp/Challenger\", sess.graph) #<--- Where to store"
   ]
  },
  {
   "cell_type": "markdown",
   "metadata": {},
   "source": [
    "### Performance can be visualized in Tensorboard\n",
    "\n",
    "The performance can be visualized in Tensorboard. \n",
    "```\n",
    "    tensorboard --logdir /tmp/Challenger \n",
    "```\n",
    "and open a browser at\n",
    "http://localhost:6006"
   ]
  }
 ],
 "metadata": {
  "kernelspec": {
   "display_name": "Python 3",
   "language": "python",
   "name": "python3"
  },
  "language_info": {
   "codemirror_mode": {
    "name": "ipython",
    "version": 3
   },
   "file_extension": ".py",
   "mimetype": "text/x-python",
   "name": "python",
   "nbconvert_exporter": "python",
   "pygments_lexer": "ipython3",
   "version": "3.6.3"
  }
 },
 "nbformat": 4,
 "nbformat_minor": 1
}
