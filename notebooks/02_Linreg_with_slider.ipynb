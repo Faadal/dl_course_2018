{
 "cells": [
  {
   "cell_type": "markdown",
   "metadata": {},
   "source": [
    "### Linear regression "
   ]
  },
  {
   "cell_type": "code",
   "execution_count": null,
   "metadata": {},
   "outputs": [],
   "source": [
    "import tensorflow as tf\n",
    "import numpy as np\n",
    "import matplotlib.pyplot as plt\n",
    "%matplotlib inline\n",
    "from ipywidgets import *"
   ]
  },
  {
   "cell_type": "markdown",
   "metadata": {},
   "source": [
    "### Data generation\n",
    "First we need to create our x data and y data. We want to find the parameters a and b for the fuction $y = a*x + b $ Our parameters a and b are known, $a = 1.65$ and $b = 3.8$. In addition we add some random noise with mean 0 and standard deviation 8 to the target y."
   ]
  },
  {
   "cell_type": "code",
   "execution_count": null,
   "metadata": {},
   "outputs": [],
   "source": [
    "np.random.seed(seed=22)\n",
    "N = 50\n",
    "x_data = (np.linspace(0,50,N)).astype('float32')\n",
    "y_data = ((1.65 * x_data) + 3.8 + np.random.normal(0,8,N)).astype('float32')"
   ]
  },
  {
   "cell_type": "markdown",
   "metadata": {},
   "source": [
    "This is the function with and without gaussian noise"
   ]
  },
  {
   "cell_type": "code",
   "execution_count": null,
   "metadata": {},
   "outputs": [],
   "source": [
    "plt.scatter(x_data,y_data)\n",
    "plt.plot(x_data,(1.65*x_data)+3.8)"
   ]
  },
  {
   "cell_type": "markdown",
   "metadata": {},
   "source": [
    "### RSS Minimization by trying\n",
    "\n",
    "Fit a linear function to the data and calculate residual sum of squares (RSS). Play around with the sliders so that the RSS is minimized. As a technical detail, we use the mean instead of the sum to be indpendent of the number of data points."
   ]
  },
  {
   "cell_type": "code",
   "execution_count": null,
   "metadata": {},
   "outputs": [],
   "source": [
    "def linreg(a,b):\n",
    "    plt.scatter(x_data,y_data)\n",
    "    plt.plot(x_data,a*x_data+b)\n",
    "    plt.xlim((-10, 60))\n",
    "    plt.ylim((-10, 100))\n",
    "    plt.show()\n",
    "    print(\"Loss {}\".format(np.mean(np.square(y_data-(a*x_data+b)))))\n",
    "\n",
    "interact(linreg,a=(-5,5,0.05),b=(-50,50,1))"
   ]
  },
  {
   "cell_type": "markdown",
   "metadata": {},
   "source": [
    "### Linear regression in TensorFlow, feeding data  "
   ]
  },
  {
   "cell_type": "code",
   "execution_count": null,
   "metadata": {},
   "outputs": [],
   "source": [
    "# Defining the graph (construction phase)\n",
    "tf.reset_default_graph()\n",
    "a = tf.Variable(1.0, name = 'a') \n",
    "b = tf.Variable(1.0, name = 'b')\n",
    "x = tf.placeholder('float32', [N], name='x_data')\n",
    "y = tf.placeholder('float32', [N], name='y_data')\n",
    "loss = tf.reduce_mean(tf.square(a*x + b - y)) #Average is called reduce_mean\n",
    "\n",
    "init_op = tf.global_variables_initializer() \n",
    "# Initialization ('symbolic'), this creates a new operation in the graph. Which\n",
    "# initializes the graph. We call this later, when we have a concrete realization of the graph"
   ]
  },
  {
   "cell_type": "markdown",
   "metadata": {},
   "source": [
    "Now feed your optimal parameters from above through the tensorflow graph and compare the \"loss\" with the RSS "
   ]
  },
  {
   "cell_type": "code",
   "execution_count": null,
   "metadata": {
    "scrolled": true
   },
   "outputs": [],
   "source": [
    "# Working with a concrete realization (launching a graph). \n",
    "# A session sess is created  with the with construct \n",
    "# the session is closed, when moving out of the with class\n",
    "with tf.Session() as sess: \n",
    "    sess.run(init_op) #Doing the initialization on the concrete realization of the graph\n",
    "    res = sess.run(loss, feed_dict={x:x_data, y:y_data, a:, b:}) #Evaluation loss using the provided data\n",
    "    writer = tf.summary.FileWriter(\"/tmp/linreg\", sess.graph) \n",
    "    writer.close()\n",
    "    print(\"Loss {} \".format(res))"
   ]
  },
  {
   "cell_type": "markdown",
   "metadata": {},
   "source": [
    "### Linear regression with TensorFlow, optimization\n",
    "Now let tensorflow do the work and find the optimal values for a and b to minimize the loss"
   ]
  },
  {
   "cell_type": "code",
   "execution_count": null,
   "metadata": {},
   "outputs": [],
   "source": [
    "train_op = tf.train.GradientDescentOptimizer(0.1).minimize(loss) #A new activity doing one optimization step \n",
    "\n",
    "# when called.\n",
    "# Other optimizers \n",
    "#train_op = tf.train.AdamOptimizer().minimize(loss) \n",
    "#train_op = tf.train.MomentumOptimizer(0.0001, 0.9).minimize(loss)\n",
    "\n",
    "epochs = 5000\n",
    "results = np.zeros((epochs, 4))\n",
    "init_op = tf.global_variables_initializer() #Initialization\n",
    "with tf.Session() as sess:\n",
    "    sess.run(init_op) #Running the initialization\n",
    "    for e in range(epochs): #Fitting the data for some epochs\n",
    "        res = sess.run([train_op, loss, a, b], feed_dict={x:x_data, y:y_data})  \n",
    "        results[e] = res\n",
    "        if ((e < 5) | (e > epochs-5)):\n",
    "            print(\"Epoch{} Loss {} (a={}, b={})\".format(e+1,res[1],res[2],res[3]))\n",
    "    res = sess.run([loss, a, b], feed_dict={x:x_data, y:y_data})"
   ]
  },
  {
   "cell_type": "code",
   "execution_count": null,
   "metadata": {
    "scrolled": false
   },
   "outputs": [],
   "source": [
    "!tensorboard --logdir=/tmp/linreg/"
   ]
  }
 ],
 "metadata": {
  "kernelspec": {
   "display_name": "Python 3",
   "language": "python",
   "name": "python3"
  },
  "language_info": {
   "codemirror_mode": {
    "name": "ipython",
    "version": 3
   },
   "file_extension": ".py",
   "mimetype": "text/x-python",
   "name": "python",
   "nbconvert_exporter": "python",
   "pygments_lexer": "ipython3",
   "version": "3.6.3"
  }
 },
 "nbformat": 4,
 "nbformat_minor": 2
}
