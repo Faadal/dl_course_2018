{
 "cells": [
  {
   "cell_type": "markdown",
   "metadata": {},
   "source": [
    "#### Matrix Multiplication (numpy)\n"
   ]
  },
  {
   "cell_type": "code",
   "execution_count": 1,
   "metadata": {},
   "outputs": [
    {
     "data": {
      "text/plain": [
       "array([[120]])"
      ]
     },
     "execution_count": 1,
     "metadata": {},
     "output_type": "execute_result"
    }
   ],
   "source": [
    "import numpy as np\n",
    "m1 = np.array([[3, 3]])\n",
    "m2 = np.array([[2],[2]])\n",
    "10 * np.matmul(m1,m2)"
   ]
  },
  {
   "cell_type": "markdown",
   "metadata": {},
   "source": [
    "#### Matrix Multiplication (tensorflow)\n",
    "\n",
    "#### Construction of the graph\n",
    "\n",
    "As a first step, we construct a graph with just decribes the computations on a \"symbolic level\". A graph usually does not contain any values. Here we added values a constant to graphs. Usually you would not define any values as constants but feed them into the graph, see later."
   ]
  },
  {
   "cell_type": "code",
   "execution_count": 2,
   "metadata": {},
   "outputs": [
    {
     "name": "stderr",
     "output_type": "stream",
     "text": [
      "/usr/local/lib/python3.5/dist-packages/h5py/__init__.py:36: FutureWarning: Conversion of the second argument of issubdtype from `float` to `np.floating` is deprecated. In future, it will be treated as `np.float64 == np.dtype(float).type`.\n",
      "  from ._conv import register_converters as _register_converters\n"
     ]
    }
   ],
   "source": [
    "import tensorflow as tf\n",
    "# We construct a graph (we write to the default graph)\n",
    "# make first sure the default graph is empty\n",
    "tf.reset_default_graph()\n",
    "m1 = tf.constant([[3, 3]], name='M1')\n",
    "m2 = tf.constant([[2],[2]], name='M2')\n",
    "product = 10 * tf.matmul(m1,m2)"
   ]
  },
  {
   "cell_type": "markdown",
   "metadata": {},
   "source": [
    "Now we start a session. A session allows to execute the graph (or part of it). In a session the memory are alloced on possibily different devices (such as cpu1, cpu2 or cpu1). The session hold the values and intermediate results."
   ]
  },
  {
   "cell_type": "code",
   "execution_count": 3,
   "metadata": {},
   "outputs": [
    {
     "name": "stdout",
     "output_type": "stream",
     "text": [
      "[[120]]\n"
     ]
    }
   ],
   "source": [
    "sess = tf.Session()\n",
    "res = sess.run(product)\n",
    "print(res)\n",
    "# We store the graph to inspect it in tensorboard later\n",
    "writer = tf.summary.FileWriter(\"/tmp/matrixmultiplication\", sess.graph) \n",
    "writer.close()\n",
    "sess.close()"
   ]
  },
  {
   "cell_type": "code",
   "execution_count": 4,
   "metadata": {},
   "outputs": [
    {
     "name": "stdout",
     "output_type": "stream",
     "text": [
      "/usr/local/lib/python3.5/dist-packages/h5py/__init__.py:36: FutureWarning: Conversion of the second argument of issubdtype from `float` to `np.floating` is deprecated. In future, it will be treated as `np.float64 == np.dtype(float).type`.\n",
      "  from ._conv import register_converters as _register_converters\n",
      "TensorBoard 1.5.0 at http://fb32b903f44e:6006 (Press CTRL+C to quit)\n",
      "^C\n"
     ]
    }
   ],
   "source": [
    "!tensorboard --logdir=/tmp/matrixmultiplication/\n",
    "# we need to interrupt the kernel to continue working in this notebook\n",
    "#if you use anaconda you need to start a new anaconda prompt type the command above without the ! \n",
    "#in the beginning"
   ]
  },
  {
   "cell_type": "markdown",
   "metadata": {},
   "source": [
    "Open in browser:\n",
    "\n",
    "* Windows: http://192.168.99.100:6006\n",
    "* Rest:  http://localhost:6006 "
   ]
  },
  {
   "cell_type": "markdown",
   "metadata": {
    "collapsed": true
   },
   "source": [
    "#### Matrix Multiplication Feeding\n",
    "\n",
    "Instead of the matrix m2 use a placefolder to feed-in values. You must specify the shape of the m2 matrix (rows, columns). "
   ]
  },
  {
   "cell_type": "code",
   "execution_count": 5,
   "metadata": {},
   "outputs": [],
   "source": [
    "tf.reset_default_graph()\n",
    "m1 = tf.constant([[3., 3.]], name='M1')\n",
    "m2 = tf.placeholder('float32', shape=(2,1)) #Provide the correct dimensions\n",
    "product = 10*tf.matmul(m1,m2)"
   ]
  },
  {
   "cell_type": "code",
   "execution_count": 6,
   "metadata": {},
   "outputs": [
    {
     "name": "stdout",
     "output_type": "stream",
     "text": [
      "[[150.]]\n"
     ]
    }
   ],
   "source": [
    "sess = tf.Session()\n",
    "val_m2 = np.array([[2],[3]])\n",
    "res = sess.run(fetches=product, feed_dict={m2:val_m2}) #Provide the correct feed-dictionary\n",
    "print(res)\n",
    "sess.close()"
   ]
  },
  {
   "cell_type": "code",
   "execution_count": null,
   "metadata": {},
   "outputs": [],
   "source": []
  }
 ],
 "metadata": {
  "kernelspec": {
   "display_name": "Python 3",
   "language": "python",
   "name": "python3"
  },
  "language_info": {
   "codemirror_mode": {
    "name": "ipython",
    "version": 3
   },
   "file_extension": ".py",
   "mimetype": "text/x-python",
   "name": "python",
   "nbconvert_exporter": "python",
   "pygments_lexer": "ipython3",
   "version": "3.5.2"
  }
 },
 "nbformat": 4,
 "nbformat_minor": 2
}
