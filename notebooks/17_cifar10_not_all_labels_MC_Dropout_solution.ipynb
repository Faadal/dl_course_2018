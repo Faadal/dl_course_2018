{
 "cells": [
  {
   "cell_type": "markdown",
   "metadata": {},
   "source": [
    "## Cifar10 with MC-Dropout\n",
    "\n",
    "In this notebook we will use again the cifar 10 dataset. We will use only 2 of the 10 labels to train a CNN and use Dropout not only in the training but also at test-time. The labels for the trainig will be only airplane and automobile, but we will predict all ten labels! The goal is find a method to distinglish between known and unknown labels."
   ]
  },
  {
   "cell_type": "code",
   "execution_count": 1,
   "metadata": {
    "colab": {
     "autoexec": {
      "startup": false,
      "wait_interval": 0
     },
     "base_uri": "https://localhost:8080/",
     "height": 34
    },
    "colab_type": "code",
    "executionInfo": {
     "elapsed": 7669,
     "status": "ok",
     "timestamp": 1523284436016,
     "user": {
      "displayName": "Oliver Duerr",
      "photoUrl": "https://lh3.googleusercontent.com/a/default-user=s128",
      "userId": "115023668464573925389"
     },
     "user_tz": -120
    },
    "id": "B0xfR5BHHQ-f",
    "outputId": "cea0d101-7f25-44f7-98c6-bdce64a8bfc3"
   },
   "outputs": [
    {
     "name": "stderr",
     "output_type": "stream",
     "text": [
      "/usr/local/lib/python3.5/dist-packages/h5py/__init__.py:36: FutureWarning: Conversion of the second argument of issubdtype from `float` to `np.floating` is deprecated. In future, it will be treated as `np.float64 == np.dtype(float).type`.\n",
      "  from ._conv import register_converters as _register_converters\n",
      "Using TensorFlow backend.\n"
     ]
    }
   ],
   "source": [
    "import numpy as np\n",
    "import matplotlib.pyplot as plt\n",
    "%matplotlib inline\n",
    "\n",
    "import tensorflow as tf \n",
    "import keras"
   ]
  },
  {
   "cell_type": "code",
   "execution_count": 2,
   "metadata": {
    "colab": {
     "autoexec": {
      "startup": false,
      "wait_interval": 0
     },
     "base_uri": "https://localhost:8080/",
     "height": 51
    },
    "colab_type": "code",
    "executionInfo": {
     "elapsed": 17613,
     "status": "ok",
     "timestamp": 1523284451612,
     "user": {
      "displayName": "Oliver Duerr",
      "photoUrl": "https://lh3.googleusercontent.com/a/default-user=s128",
      "userId": "115023668464573925389"
     },
     "user_tz": -120
    },
    "id": "B9d-6FsZHQ-k",
    "outputId": "4e38e1e1-cee0-4d35-ad59-81575691675c"
   },
   "outputs": [
    {
     "name": "stdout",
     "output_type": "stream",
     "text": [
      "Downloading data from https://www.cs.toronto.edu/~kriz/cifar-10-python.tar.gz\n",
      "170500096/170498071 [==============================] - 658s 4us/step\n"
     ]
    }
   ],
   "source": [
    "from keras.datasets import cifar10\n",
    "(x_train, y_train), (x_test, y_test) = cifar10.load_data()\n"
   ]
  },
  {
   "cell_type": "markdown",
   "metadata": {
    "colab_type": "text",
    "id": "YbYNZP-w03tg"
   },
   "source": [
    "#### Make train and testset smaller\n"
   ]
  },
  {
   "cell_type": "code",
   "execution_count": 3,
   "metadata": {
    "colab": {
     "autoexec": {
      "startup": false,
      "wait_interval": 0
     }
    },
    "colab_type": "code",
    "id": "922_CavJHQ-n"
   },
   "outputs": [],
   "source": [
    "#loop over each class label and sample random images over each label and save the idx to subset\n",
    "np.random.seed(seed=220)\n",
    "idx=np.empty(0,dtype=\"int8\")\n",
    "for i in range(0,len(np.unique(y_train))):\n",
    "    idx=np.append(idx,np.random.choice(np.where((y_train[0:len(y_train)])==i)[0],1000,replace=False))\n",
    "\n",
    "x_train= x_train[idx]\n",
    "y_train= y_train[idx]"
   ]
  },
  {
   "cell_type": "code",
   "execution_count": 4,
   "metadata": {
    "colab": {
     "autoexec": {
      "startup": false,
      "wait_interval": 0
     }
    },
    "colab_type": "code",
    "id": "LS5aeVaeHQ-r"
   },
   "outputs": [],
   "source": [
    "#loop over each class label and sample random images over each label and save the idx to subset\n",
    "np.random.seed(seed=220)\n",
    "idx=np.empty(0,dtype=\"int8\")\n",
    "for i in range(0,len(np.unique(y_test))):\n",
    "    idx=np.append(idx,np.random.choice(np.where((y_test[0:len(y_test)])==i)[0],250,replace=False))\n",
    "\n",
    "x_test= x_test[idx]\n",
    "y_test= y_test[idx]"
   ]
  },
  {
   "cell_type": "code",
   "execution_count": 5,
   "metadata": {
    "colab": {
     "autoexec": {
      "startup": false,
      "wait_interval": 0
     },
     "base_uri": "https://localhost:8080/",
     "height": 119
    },
    "colab_type": "code",
    "executionInfo": {
     "elapsed": 493,
     "status": "ok",
     "timestamp": 1523284645873,
     "user": {
      "displayName": "Oliver Duerr",
      "photoUrl": "https://lh3.googleusercontent.com/a/default-user=s128",
      "userId": "115023668464573925389"
     },
     "user_tz": -120
    },
    "id": "CbENZE2LHQ-t",
    "outputId": "f442cd02-dcea-40d5-eb46-a04e36a723b8"
   },
   "outputs": [
    {
     "name": "stdout",
     "output_type": "stream",
     "text": [
      "(10000, 32, 32, 3)\n",
      "(10000, 1)\n",
      "(array([0, 1, 2, 3, 4, 5, 6, 7, 8, 9], dtype=uint8), array([1000, 1000, 1000, 1000, 1000, 1000, 1000, 1000, 1000, 1000]))\n",
      "(2500, 32, 32, 3)\n",
      "(2500, 1)\n",
      "(array([0, 1, 2, 3, 4, 5, 6, 7, 8, 9]), array([250, 250, 250, 250, 250, 250, 250, 250, 250, 250]))\n"
     ]
    }
   ],
   "source": [
    "print(x_train.shape)\n",
    "print(y_train.shape)\n",
    "print(np.unique(y_train,return_counts=True))\n",
    "print(x_test.shape)\n",
    "print(y_test.shape)\n",
    "print(np.unique(y_test,return_counts=True))"
   ]
  },
  {
   "cell_type": "code",
   "execution_count": 6,
   "metadata": {
    "colab": {
     "autoexec": {
      "startup": false,
      "wait_interval": 0
     }
    },
    "colab_type": "code",
    "id": "wxtdHEfCHQ-1"
   },
   "outputs": [],
   "source": [
    "labels=np.array([\"airplane\",\"automobile\",\"bird\",\"cat\",\"deer\",\"dog\",\"frog\",\"horse\",\"ship\",\"truck\"])"
   ]
  },
  {
   "cell_type": "code",
   "execution_count": 7,
   "metadata": {
    "colab": {
     "autoexec": {
      "startup": false,
      "wait_interval": 0
     },
     "base_uri": "https://localhost:8080/",
     "height": 177
    },
    "colab_type": "code",
    "executionInfo": {
     "elapsed": 1499,
     "status": "ok",
     "timestamp": 1523284650711,
     "user": {
      "displayName": "Oliver Duerr",
      "photoUrl": "https://lh3.googleusercontent.com/a/default-user=s128",
      "userId": "115023668464573925389"
     },
     "user_tz": -120
    },
    "id": "72tPPcsbHQ-4",
    "outputId": "22864e75-2d24-4a18-d9b7-721ea5a9cafb"
   },
   "outputs": [
    {
     "data": {
      "image/png": "[encoded data removed]",
      "text/plain": [
       "<matplotlib.figure.Figure at 0x7f39853047f0>"
      ]
     },
     "metadata": {},
     "output_type": "display_data"
    }
   ],
   "source": [
    "#sample image of each label\n",
    "plt.figure(figsize=(20,20))\n",
    "for i in range(0,len(np.unique(y_train))):\n",
    "    rmd=np.random.choice(np.where(y_train==i)[0],1)\n",
    "    plt.subplot(1,10,i+1)\n",
    "    img=x_train[rmd]\n",
    "    plt.imshow(img[0,:,:,:])\n",
    "    plt.title(labels[i])"
   ]
  },
  {
   "cell_type": "markdown",
   "metadata": {
    "colab_type": "text",
    "id": "M_YfUI4L03t0"
   },
   "source": [
    "#### Delete all labels, except 0 and 1 (airplane and automobile)"
   ]
  },
  {
   "cell_type": "code",
   "execution_count": 8,
   "metadata": {
    "colab": {
     "autoexec": {
      "startup": false,
      "wait_interval": 0
     },
     "base_uri": "https://localhost:8080/",
     "height": 34
    },
    "colab_type": "code",
    "executionInfo": {
     "elapsed": 510,
     "status": "ok",
     "timestamp": 1523284675894,
     "user": {
      "displayName": "Oliver Duerr",
      "photoUrl": "https://lh3.googleusercontent.com/a/default-user=s128",
      "userId": "115023668464573925389"
     },
     "user_tz": -120
    },
    "id": "FmeL0LXjHQ-9",
    "outputId": "c5a452a7-1c86-4347-f903-c29fd693f9a5"
   },
   "outputs": [
    {
     "data": {
      "text/plain": [
       "8000"
      ]
     },
     "execution_count": 8,
     "metadata": {},
     "output_type": "execute_result"
    }
   ],
   "source": [
    "idx=np.where(np.in1d(y_train,[2,3,4,5,6,7,8,9]))[0]\n",
    "len(idx)"
   ]
  },
  {
   "cell_type": "code",
   "execution_count": 9,
   "metadata": {
    "colab": {
     "autoexec": {
      "startup": false,
      "wait_interval": 0
     }
    },
    "colab_type": "code",
    "id": "GGCe7_dHHQ_D"
   },
   "outputs": [],
   "source": [
    "x_train=np.delete(x_train,idx,axis=0)\n",
    "y_train=np.delete(y_train,idx,axis=0)"
   ]
  },
  {
   "cell_type": "code",
   "execution_count": 10,
   "metadata": {
    "colab": {
     "autoexec": {
      "startup": false,
      "wait_interval": 0
     },
     "base_uri": "https://localhost:8080/",
     "height": 51
    },
    "colab_type": "code",
    "executionInfo": {
     "elapsed": 485,
     "status": "ok",
     "timestamp": 1523284696743,
     "user": {
      "displayName": "Oliver Duerr",
      "photoUrl": "https://lh3.googleusercontent.com/a/default-user=s128",
      "userId": "115023668464573925389"
     },
     "user_tz": -120
    },
    "id": "BXFVOvXYHQ_G",
    "outputId": "5ad333c2-5fe7-4ee4-e052-bf0a378f668a"
   },
   "outputs": [
    {
     "name": "stdout",
     "output_type": "stream",
     "text": [
      "(2000, 32, 32, 3)\n",
      "(2000, 1)\n"
     ]
    }
   ],
   "source": [
    "print(x_train.shape)\n",
    "print(y_train.shape)"
   ]
  },
  {
   "cell_type": "markdown",
   "metadata": {
    "colab_type": "text",
    "id": "5Hn4Dbnj03uC"
   },
   "source": [
    "#### Normalize the train and testdata\n"
   ]
  },
  {
   "cell_type": "code",
   "execution_count": 11,
   "metadata": {
    "colab": {
     "autoexec": {
      "startup": false,
      "wait_interval": 0
     }
    },
    "colab_type": "code",
    "id": "hY1OUkTEHQ_P"
   },
   "outputs": [],
   "source": [
    "X_mean = np.mean( x_train, axis = 0)\n",
    "X_std = np.std( x_train, axis = 0)\n",
    "\n",
    "x_train = (x_train - X_mean ) / (X_std + 0.0001)\n",
    "x_test = (x_test - X_mean ) / (X_std + 0.0001)"
   ]
  },
  {
   "cell_type": "code",
   "execution_count": 12,
   "metadata": {
    "colab": {
     "autoexec": {
      "startup": false,
      "wait_interval": 0
     },
     "base_uri": "https://localhost:8080/",
     "height": 51
    },
    "colab_type": "code",
    "executionInfo": {
     "elapsed": 533,
     "status": "ok",
     "timestamp": 1523284705331,
     "user": {
      "displayName": "Oliver Duerr",
      "photoUrl": "https://lh3.googleusercontent.com/a/default-user=s128",
      "userId": "115023668464573925389"
     },
     "user_tz": -120
    },
    "id": "CJfoaSyoHQ_U",
    "outputId": "9ddbc6d7-f792-4ea9-94a5-1d9212652bac"
   },
   "outputs": [
    {
     "name": "stdout",
     "output_type": "stream",
     "text": [
      "[0 1]\n"
     ]
    },
    {
     "data": {
      "text/plain": [
       "array(['airplane', 'automobile'], dtype='<U10')"
      ]
     },
     "execution_count": 12,
     "metadata": {},
     "output_type": "execute_result"
    }
   ],
   "source": [
    "print(np.unique(y_train))\n",
    "labels[np.unique(y_train)]"
   ]
  },
  {
   "cell_type": "code",
   "execution_count": 13,
   "metadata": {
    "colab": {
     "autoexec": {
      "startup": false,
      "wait_interval": 0
     }
    },
    "colab_type": "code",
    "id": "Y9RWwAv-HQ_a"
   },
   "outputs": [],
   "source": [
    "from keras.utils.np_utils import to_categorical   \n",
    "\n",
    "y_train=to_categorical(y_train,2)"
   ]
  },
  {
   "cell_type": "markdown",
   "metadata": {
    "colab_type": "text",
    "id": "C4INbSbO03uP"
   },
   "source": [
    "#### Split trainingdata into a tran and validset"
   ]
  },
  {
   "cell_type": "code",
   "execution_count": 14,
   "metadata": {
    "colab": {
     "autoexec": {
      "startup": false,
      "wait_interval": 0
     },
     "base_uri": "https://localhost:8080/",
     "height": 34
    },
    "colab_type": "code",
    "executionInfo": {
     "elapsed": 527,
     "status": "ok",
     "timestamp": 1523284715588,
     "user": {
      "displayName": "Oliver Duerr",
      "photoUrl": "https://lh3.googleusercontent.com/a/default-user=s128",
      "userId": "115023668464573925389"
     },
     "user_tz": -120
    },
    "id": "DVfOklr1HQ_e",
    "outputId": "fb2ef30a-d60a-47d5-97aa-fed2cb3fa8ff"
   },
   "outputs": [
    {
     "data": {
      "text/plain": [
       "1600"
      ]
     },
     "execution_count": 14,
     "metadata": {},
     "output_type": "execute_result"
    }
   ],
   "source": [
    "#make 80% train and 20% valid out of train\n",
    "np.random.seed(478)\n",
    "rand_idx=np.random.choice(list(range(0,len(x_train))),replace=False,size=round(0.8*(len(x_train))))\n",
    "len(rand_idx)"
   ]
  },
  {
   "cell_type": "code",
   "execution_count": 15,
   "metadata": {
    "colab": {
     "autoexec": {
      "startup": false,
      "wait_interval": 0
     }
    },
    "colab_type": "code",
    "id": "W2-ubvnkHQ_l"
   },
   "outputs": [],
   "source": [
    "x_valid=np.delete(x_train,axis=0,obj=rand_idx)\n",
    "y_valid=np.delete(y_train,axis=0,obj=rand_idx)"
   ]
  },
  {
   "cell_type": "code",
   "execution_count": 16,
   "metadata": {
    "colab": {
     "autoexec": {
      "startup": false,
      "wait_interval": 0
     }
    },
    "colab_type": "code",
    "id": "pbYRoN0pHQ_p"
   },
   "outputs": [],
   "source": [
    "x_train=x_train[rand_idx]\n",
    "y_train=y_train[rand_idx]"
   ]
  },
  {
   "cell_type": "code",
   "execution_count": 17,
   "metadata": {
    "colab": {
     "autoexec": {
      "startup": false,
      "wait_interval": 0
     },
     "base_uri": "https://localhost:8080/",
     "height": 85
    },
    "colab_type": "code",
    "executionInfo": {
     "elapsed": 530,
     "status": "ok",
     "timestamp": 1523284738937,
     "user": {
      "displayName": "Oliver Duerr",
      "photoUrl": "https://lh3.googleusercontent.com/a/default-user=s128",
      "userId": "115023668464573925389"
     },
     "user_tz": -120
    },
    "id": "ajhyRyWkHQ_r",
    "outputId": "a910aa63-bc0c-453c-c3aa-69abf48a8e22"
   },
   "outputs": [
    {
     "name": "stdout",
     "output_type": "stream",
     "text": [
      "(1600, 32, 32, 3)\n",
      "(1600, 2)\n",
      "(400, 32, 32, 3)\n",
      "(400, 2)\n"
     ]
    }
   ],
   "source": [
    "print(x_train.shape)\n",
    "print(y_train.shape)\n",
    "print(x_valid.shape)\n",
    "print(y_valid.shape)\n"
   ]
  },
  {
   "cell_type": "markdown",
   "metadata": {},
   "source": [
    "#### Define and train the model\n"
   ]
  },
  {
   "cell_type": "code",
   "execution_count": 18,
   "metadata": {
    "colab": {
     "autoexec": {
      "startup": false,
      "wait_interval": 0
     }
    },
    "colab_type": "code",
    "id": "8In6EbYkHQ_1"
   },
   "outputs": [],
   "source": [
    "import keras\n",
    "from keras.models import Sequential\n",
    "from keras.layers import Dense, Dropout, Activation, Flatten, Input\n",
    "from keras.layers import Convolution2D, MaxPooling2D\n",
    "from keras import backend as K\n",
    "from keras.layers.normalization import BatchNormalization\n",
    "from keras.layers.core import Lambda"
   ]
  },
  {
   "cell_type": "code",
   "execution_count": 19,
   "metadata": {
    "colab": {
     "autoexec": {
      "startup": false,
      "wait_interval": 0
     },
     "base_uri": "https://localhost:8080/",
     "height": 51
    },
    "colab_type": "code",
    "executionInfo": {
     "elapsed": 469,
     "status": "ok",
     "timestamp": 1523284747256,
     "user": {
      "displayName": "Oliver Duerr",
      "photoUrl": "https://lh3.googleusercontent.com/a/default-user=s128",
      "userId": "115023668464573925389"
     },
     "user_tz": -120
    },
    "id": "CK2iSq3THQ_3",
    "outputId": "696db53e-cc24-4caa-c763-b01c43a9ed96"
   },
   "outputs": [
    {
     "data": {
      "text/plain": [
       "array([[  0, 812],\n",
       "       [  1, 788]])"
      ]
     },
     "execution_count": 19,
     "metadata": {},
     "output_type": "execute_result"
    }
   ],
   "source": [
    "np.transpose(np.unique(np.argmax(y_train,axis=1),return_counts=True))"
   ]
  },
  {
   "cell_type": "code",
   "execution_count": 20,
   "metadata": {
    "colab": {
     "autoexec": {
      "startup": false,
      "wait_interval": 0
     }
    },
    "colab_type": "code",
    "id": "FQ3N0887JRVy"
   },
   "outputs": [],
   "source": [
    "# mc-dropout function\n",
    "def mcdrop(x, level=0.3):\n",
    "  return K.dropout(x, level=level)"
   ]
  },
  {
   "cell_type": "code",
   "execution_count": 21,
   "metadata": {
    "colab": {
     "autoexec": {
      "startup": false,
      "wait_interval": 0
     }
    },
    "colab_type": "code",
    "id": "JHZBPX_dHQ_9"
   },
   "outputs": [],
   "source": [
    "model = Sequential()\n",
    "name = 'cifar_1'\n",
    "\n",
    "\n",
    "model.add(Convolution2D(16, (3,3),padding='same',input_shape=(32,32,3)))\n",
    "model.add(Activation('relu'))\n",
    "model.add(Convolution2D(16, (3,3),padding='same'))\n",
    "model.add(Activation('relu'))\n",
    "model.add(MaxPooling2D(pool_size=(2, 2)))\n",
    "model.add(Convolution2D(32, (3,3),padding='same'))\n",
    "model.add(Activation('relu'))\n",
    "model.add(Convolution2D(32, (3,3),padding='same'))\n",
    "model.add(Activation('relu'))\n",
    "model.add(MaxPooling2D(pool_size=(2, 2)))\n",
    "\n",
    "model.add(Flatten())\n",
    "   \n",
    "model.add(Lambda(mcdrop, name=\"MC-Dropout_1\"))\n",
    "model.add(Dense(400))\n",
    "\n",
    "model.add(Activation('relu'))\n",
    "\n",
    "model.add(Lambda(mcdrop, name=\"MC-Dropout_2\"))\n",
    "model.add(Dense(2))\n",
    "model.add(Activation('softmax'))\n",
    "\n",
    "model.compile(loss='categorical_crossentropy',\n",
    "              optimizer='adam',\n",
    "              metrics=['accuracy'])"
   ]
  },
  {
   "cell_type": "code",
   "execution_count": 22,
   "metadata": {
    "colab": {
     "autoexec": {
      "startup": false,
      "wait_interval": 0
     },
     "base_uri": "https://localhost:8080/",
     "height": 714
    },
    "colab_type": "code",
    "executionInfo": {
     "elapsed": 521,
     "status": "ok",
     "timestamp": 1523284770572,
     "user": {
      "displayName": "Oliver Duerr",
      "photoUrl": "https://lh3.googleusercontent.com/a/default-user=s128",
      "userId": "115023668464573925389"
     },
     "user_tz": -120
    },
    "id": "NfpNvv8-HRAC",
    "outputId": "0f9bda16-f396-4db4-9321-bcaa6eda5481"
   },
   "outputs": [
    {
     "name": "stdout",
     "output_type": "stream",
     "text": [
      "_________________________________________________________________\n",
      "Layer (type)                 Output Shape              Param #   \n",
      "=================================================================\n",
      "conv2d_1 (Conv2D)            (None, 32, 32, 16)        448       \n",
      "_________________________________________________________________\n",
      "activation_1 (Activation)    (None, 32, 32, 16)        0         \n",
      "_________________________________________________________________\n",
      "conv2d_2 (Conv2D)            (None, 32, 32, 16)        2320      \n",
      "_________________________________________________________________\n",
      "activation_2 (Activation)    (None, 32, 32, 16)        0         \n",
      "_________________________________________________________________\n",
      "max_pooling2d_1 (MaxPooling2 (None, 16, 16, 16)        0         \n",
      "_________________________________________________________________\n",
      "conv2d_3 (Conv2D)            (None, 16, 16, 32)        4640      \n",
      "_________________________________________________________________\n",
      "activation_3 (Activation)    (None, 16, 16, 32)        0         \n",
      "_________________________________________________________________\n",
      "conv2d_4 (Conv2D)            (None, 16, 16, 32)        9248      \n",
      "_________________________________________________________________\n",
      "activation_4 (Activation)    (None, 16, 16, 32)        0         \n",
      "_________________________________________________________________\n",
      "max_pooling2d_2 (MaxPooling2 (None, 8, 8, 32)          0         \n",
      "_________________________________________________________________\n",
      "flatten_1 (Flatten)          (None, 2048)              0         \n",
      "_________________________________________________________________\n",
      "MC-Dropout_1 (Lambda)        (None, 2048)              0         \n",
      "_________________________________________________________________\n",
      "dense_1 (Dense)              (None, 400)               819600    \n",
      "_________________________________________________________________\n",
      "activation_5 (Activation)    (None, 400)               0         \n",
      "_________________________________________________________________\n",
      "MC-Dropout_2 (Lambda)        (None, 400)               0         \n",
      "_________________________________________________________________\n",
      "dense_2 (Dense)              (None, 2)                 802       \n",
      "_________________________________________________________________\n",
      "activation_6 (Activation)    (None, 2)                 0         \n",
      "=================================================================\n",
      "Total params: 837,058\n",
      "Trainable params: 837,058\n",
      "Non-trainable params: 0\n",
      "_________________________________________________________________\n"
     ]
    }
   ],
   "source": [
    "model.summary()"
   ]
  },
  {
   "cell_type": "code",
   "execution_count": 23,
   "metadata": {
    "colab": {
     "autoexec": {
      "startup": false,
      "wait_interval": 0
     },
     "base_uri": "https://localhost:8080/",
     "height": 544
    },
    "colab_type": "code",
    "executionInfo": {
     "elapsed": 8701,
     "status": "ok",
     "timestamp": 1523284781131,
     "user": {
      "displayName": "Oliver Duerr",
      "photoUrl": "https://lh3.googleusercontent.com/a/default-user=s128",
      "userId": "115023668464573925389"
     },
     "user_tz": -120
    },
    "id": "Oxd8TVcFHRAH",
    "outputId": "015db00d-4446-4aaa-d1ad-e466ba9187b6"
   },
   "outputs": [
    {
     "name": "stdout",
     "output_type": "stream",
     "text": [
      "Train on 1600 samples, validate on 400 samples\n",
      "Epoch 1/15\n",
      "1600/1600 [==============================] - 6s 4ms/step - loss: 0.5908 - acc: 0.6856 - val_loss: 0.4992 - val_acc: 0.7950\n",
      "Epoch 2/15\n",
      "1600/1600 [==============================] - 6s 4ms/step - loss: 0.4757 - acc: 0.7756 - val_loss: 0.5109 - val_acc: 0.7825\n",
      "Epoch 3/15\n",
      "1600/1600 [==============================] - 6s 4ms/step - loss: 0.3871 - acc: 0.8237 - val_loss: 0.3893 - val_acc: 0.8325\n",
      "Epoch 4/15\n",
      "1600/1600 [==============================] - 6s 4ms/step - loss: 0.3038 - acc: 0.8638 - val_loss: 0.3229 - val_acc: 0.8550\n",
      "Epoch 5/15\n",
      "1600/1600 [==============================] - 6s 4ms/step - loss: 0.2732 - acc: 0.8825 - val_loss: 0.3143 - val_acc: 0.8775\n",
      "Epoch 6/15\n",
      "1600/1600 [==============================] - 6s 4ms/step - loss: 0.2261 - acc: 0.9031 - val_loss: 0.3074 - val_acc: 0.8850\n",
      "Epoch 7/15\n",
      "1600/1600 [==============================] - 6s 4ms/step - loss: 0.1871 - acc: 0.9263 - val_loss: 0.3106 - val_acc: 0.8850\n",
      "Epoch 8/15\n",
      "1600/1600 [==============================] - 5s 3ms/step - loss: 0.1621 - acc: 0.9356 - val_loss: 0.3537 - val_acc: 0.8625\n",
      "Epoch 9/15\n",
      "1600/1600 [==============================] - 5s 3ms/step - loss: 0.1484 - acc: 0.9438 - val_loss: 0.2502 - val_acc: 0.9050\n",
      "Epoch 10/15\n",
      "1600/1600 [==============================] - 5s 3ms/step - loss: 0.1326 - acc: 0.9475 - val_loss: 0.2905 - val_acc: 0.9000\n",
      "Epoch 11/15\n",
      "1600/1600 [==============================] - 5s 3ms/step - loss: 0.1180 - acc: 0.9619 - val_loss: 0.3568 - val_acc: 0.8825\n",
      "Epoch 12/15\n",
      "1600/1600 [==============================] - 5s 3ms/step - loss: 0.0938 - acc: 0.9625 - val_loss: 0.3110 - val_acc: 0.9000\n",
      "Epoch 13/15\n",
      "1600/1600 [==============================] - 5s 3ms/step - loss: 0.0738 - acc: 0.9744 - val_loss: 0.2202 - val_acc: 0.9175\n",
      "Epoch 14/15\n",
      "1600/1600 [==============================] - 5s 3ms/step - loss: 0.0647 - acc: 0.9775 - val_loss: 0.3000 - val_acc: 0.9025\n",
      "Epoch 15/15\n",
      "1600/1600 [==============================] - 5s 3ms/step - loss: 0.0604 - acc: 0.9763 - val_loss: 0.3084 - val_acc: 0.9125\n"
     ]
    }
   ],
   "source": [
    "history = model.fit(x_train,y_train,\n",
    "                    batch_size=128,\n",
    "                    epochs = 15,                    \n",
    "                    validation_data = (x_valid, y_valid),\n",
    "                    verbose = 1)"
   ]
  },
  {
   "cell_type": "code",
   "execution_count": 24,
   "metadata": {
    "colab": {
     "autoexec": {
      "startup": false,
      "wait_interval": 0
     },
     "base_uri": "https://localhost:8080/",
     "height": 571
    },
    "colab_type": "code",
    "executionInfo": {
     "elapsed": 824,
     "status": "ok",
     "timestamp": 1523284784434,
     "user": {
      "displayName": "Oliver Duerr",
      "photoUrl": "https://lh3.googleusercontent.com/a/default-user=s128",
      "userId": "115023668464573925389"
     },
     "user_tz": -120
    },
    "id": "AFqLgPjYHRAM",
    "outputId": "99bc7ec2-99e8-46a7-8581-8732b1227ba0"
   },
   "outputs": [
    {
     "data": {
      "image/png": "[encoded data removed]",
      "text/plain": [
       "<matplotlib.figure.Figure at 0x7f397dd8a2b0>"
      ]
     },
     "metadata": {},
     "output_type": "display_data"
    },
    {
     "data": {
      "image/png": "[encoded data removed]",
      "text/plain": [
       "<matplotlib.figure.Figure at 0x7f397dd8bcf8>"
      ]
     },
     "metadata": {},
     "output_type": "display_data"
    }
   ],
   "source": [
    "# summarize history for accuracy\n",
    "plt.plot(history.history['acc'])\n",
    "plt.plot(history.history['val_acc'])\n",
    "plt.ylim(0, 1)\n",
    "plt.title('model accuracy')\n",
    "plt.ylabel('accuracy')\n",
    "plt.xlabel('epoch')\n",
    "plt.legend(['train', 'valid'], loc='lower right')\n",
    "plt.show()\n",
    "\n",
    "plt.plot(history.history['loss'])\n",
    "plt.plot(history.history['val_loss'])\n",
    "plt.title('model loss')\n",
    "plt.ylabel('loss')\n",
    "plt.xlabel('epoch')\n",
    "plt.legend(['train', 'valid'], loc='upper right')\n",
    "plt.show()\n"
   ]
  },
  {
   "cell_type": "markdown",
   "metadata": {
    "colab_type": "text",
    "id": "6TrQ1iKnDwmn"
   },
   "source": [
    "#### Prediction\n",
    "\n",
    "##### a1) Use the trained model to predict the fist image of the testset twice, and describe what you observe?\n",
    "##### a2) Do the same for an image that was not used during training."
   ]
  },
  {
   "cell_type": "code",
   "execution_count": 25,
   "metadata": {
    "colab": {
     "autoexec": {
      "startup": false,
      "wait_interval": 0
     },
     "base_uri": "https://localhost:8080/",
     "height": 68
    },
    "colab_type": "code",
    "executionInfo": {
     "elapsed": 528,
     "status": "ok",
     "timestamp": 1523288301224,
     "user": {
      "displayName": "Oliver Duerr",
      "photoUrl": "https://lh3.googleusercontent.com/a/default-user=s128",
      "userId": "115023668464573925389"
     },
     "user_tz": -120
    },
    "id": "HivDSrlc03u5",
    "outputId": "586c71ec-4854-4760-bfae-d8e5ba143530"
   },
   "outputs": [
    {
     "name": "stdout",
     "output_type": "stream",
     "text": [
      "['airplane']\n",
      "[[9.9951649e-01 4.8347216e-04]]\n",
      "[[9.9994040e-01 5.9598337e-05]]\n"
     ]
    }
   ],
   "source": [
    "#predict the same image does not give the same result\n",
    "#here for known label\n",
    "print(labels[y_test[0]])\n",
    "print(model.predict(x_test[0].reshape(1,32,32,3)))\n",
    "print(model.predict(x_test[0].reshape(1,32,32,3)))"
   ]
  },
  {
   "cell_type": "code",
   "execution_count": 26,
   "metadata": {
    "colab": {
     "autoexec": {
      "startup": false,
      "wait_interval": 0
     },
     "base_uri": "https://localhost:8080/",
     "height": 68
    },
    "colab_type": "code",
    "executionInfo": {
     "elapsed": 523,
     "status": "ok",
     "timestamp": 1523288303274,
     "user": {
      "displayName": "Oliver Duerr",
      "photoUrl": "https://lh3.googleusercontent.com/a/default-user=s128",
      "userId": "115023668464573925389"
     },
     "user_tz": -120
    },
    "id": "UNFnBcXo03u-",
    "outputId": "59343c90-c85f-432e-e692-056959417238"
   },
   "outputs": [
    {
     "name": "stdout",
     "output_type": "stream",
     "text": [
      "['deer']\n",
      "[[0.13544187 0.86455816]]\n",
      "[[0.5258986  0.47410145]]\n"
     ]
    }
   ],
   "source": [
    "#predict the same image does not give the same result\n",
    "#here for unknown label\n",
    "print(labels[y_test[1000]])\n",
    "print(model.predict(x_test[1000].reshape(1,32,32,3)))\n",
    "print(model.predict(x_test[1000].reshape(1,32,32,3)))"
   ]
  },
  {
   "cell_type": "markdown",
   "metadata": {
    "colab_type": "text",
    "id": "QZdleIbzQIY-"
   },
   "source": [
    "##### b1) Now predict the first image of the test set 500 times (what is the true label of this image?), save all predicitons and plot the predicted probability for airplane and automobile in 2 histograms. \n",
    "Hint: you might want to use the numpy function np.tile, what is this function doing?\n",
    "##### b2) Use images that were not used in training and do the same as above. Are the predictions diffrent? What does it mean when you see a broad or narrow distribution?\n"
   ]
  },
  {
   "cell_type": "code",
   "execution_count": 27,
   "metadata": {},
   "outputs": [
    {
     "name": "stdout",
     "output_type": "stream",
     "text": [
      "true label\n",
      "['airplane']\n"
     ]
    },
    {
     "data": {
      "image/png": "[encoded data removed]",
      "text/plain": [
       "<matplotlib.figure.Figure at 0x7f397de386d8>"
      ]
     },
     "metadata": {},
     "output_type": "display_data"
    },
    {
     "data": {
      "image/png": "[encoded data removed]",
      "text/plain": [
       "<matplotlib.figure.Figure at 0x7f397ddd1ef0>"
      ]
     },
     "metadata": {},
     "output_type": "display_data"
    }
   ],
   "source": [
    "print(\"true label\")\n",
    "print(labels[y_test[0]])\n",
    "multi_img=np.tile(x_test[0],(500,1,1,1))\n",
    "preds=model.predict(multi_img)\n",
    "plt.hist(preds[:,0],bins=30)\n",
    "plt.title(\"predictions for the class airplane\")\n",
    "plt.show()\n",
    "plt.hist(preds[:,1],bins=30)\n",
    "plt.title(\"predictions for the class automobile\")\n",
    "plt.show()"
   ]
  },
  {
   "cell_type": "code",
   "execution_count": 28,
   "metadata": {},
   "outputs": [
    {
     "name": "stdout",
     "output_type": "stream",
     "text": [
      "true label\n",
      "['ship']\n"
     ]
    },
    {
     "data": {
      "image/png": "[encoded data removed]",
      "text/plain": [
       "<matplotlib.figure.Figure at 0x7f397dda5780>"
      ]
     },
     "metadata": {},
     "output_type": "display_data"
    },
    {
     "data": {
      "image/png": "[encoded data removed]",
      "text/plain": [
       "<matplotlib.figure.Figure at 0x7f397ddd1e48>"
      ]
     },
     "metadata": {},
     "output_type": "display_data"
    }
   ],
   "source": [
    "print(\"true label\")\n",
    "print(labels[y_test[2000]])\n",
    "multi_img=np.tile(x_test[2000],(500,1,1,1))\n",
    "preds=model.predict(multi_img)\n",
    "plt.hist(preds[:,0],bins=30)\n",
    "plt.title(\"predictions for the class airplane\")\n",
    "plt.show()\n",
    "plt.hist(preds[:,1],bins=30)\n",
    "plt.title(\"predictions for the class automobile\")\n",
    "plt.show()"
   ]
  },
  {
   "cell_type": "code",
   "execution_count": 29,
   "metadata": {},
   "outputs": [
    {
     "name": "stdout",
     "output_type": "stream",
     "text": [
      "true label\n",
      "['deer']\n"
     ]
    },
    {
     "data": {
      "image/png": "[encoded data removed]",
      "text/plain": [
       "<matplotlib.figure.Figure at 0x7f397f6f93c8>"
      ]
     },
     "metadata": {},
     "output_type": "display_data"
    },
    {
     "data": {
      "image/png": "[encoded data removed]",
      "text/plain": [
       "<matplotlib.figure.Figure at 0x7f397dcf5cc0>"
      ]
     },
     "metadata": {},
     "output_type": "display_data"
    }
   ],
   "source": [
    "print(\"true label\")\n",
    "print(labels[y_test[1000]])\n",
    "multi_img=np.tile(x_test[1000],(500,1,1,1))\n",
    "preds=model.predict(multi_img)\n",
    "plt.hist(preds[:,0],bins=30)\n",
    "plt.title(\"predictions for the class airplane\")\n",
    "plt.show()\n",
    "plt.hist(preds[:,1],bins=30)\n",
    "plt.title(\"predictions for the class automobile\")\n",
    "plt.show()"
   ]
  },
  {
   "cell_type": "markdown",
   "metadata": {},
   "source": [
    "### Filtering\n",
    "In this section we want to find a way how we could filter known from unknown labels, for this we predict every image of the testset 50 times and save the mean and the standard deviation of these 50 predictions. Then we want to see if there is a difference in the predictive distributions, depending on whether we used the label in the trainig or not."
   ]
  },
  {
   "cell_type": "code",
   "execution_count": 30,
   "metadata": {
    "colab": {
     "autoexec": {
      "startup": false,
      "wait_interval": 0
     },
     "base_uri": "https://localhost:8080/",
     "height": 187
    },
    "colab_type": "code",
    "executionInfo": {
     "elapsed": 18718,
     "status": "ok",
     "timestamp": 1523292419901,
     "user": {
      "displayName": "Oliver Duerr",
      "photoUrl": "https://lh3.googleusercontent.com/a/default-user=s128",
      "userId": "115023668464573925389"
     },
     "user_tz": -120
    },
    "id": "CPHSjBMULr3E",
    "outputId": "1be6cc78-5de5-4355-a984-1891cfbcf408"
   },
   "outputs": [
    {
     "name": "stdout",
     "output_type": "stream",
     "text": [
      "0\n",
      "250\n",
      "500\n",
      "750\n",
      "1000\n",
      "1250\n",
      "1500\n",
      "1750\n",
      "2000\n",
      "2250\n"
     ]
    }
   ],
   "source": [
    "#predict every image 50 times and save the mean of the predictions and the standard deviation\n",
    "\n",
    "pred_means=np.zeros((len(x_test),2))\n",
    "pred_std=np.zeros((len(x_test),1))\n",
    "\n",
    "for i in range(0,len(x_test)):\n",
    "    multi_img=np.tile(x_test[i],(50,1,1,1))\n",
    "    preds=model.predict(multi_img)\n",
    "    pred_means[i]= np.mean(preds,axis=0)\n",
    "    pred_std[i]= np.sqrt(np.sum(np.var(preds, axis=0)))\n",
    "    if i % 250 ==0:\n",
    "        print(i)"
   ]
  },
  {
   "cell_type": "code",
   "execution_count": 31,
   "metadata": {
    "colab": {
     "autoexec": {
      "startup": false,
      "wait_interval": 0
     },
     "base_uri": "https://localhost:8080/",
     "height": 51
    },
    "colab_type": "code",
    "executionInfo": {
     "elapsed": 479,
     "status": "ok",
     "timestamp": 1523292422486,
     "user": {
      "displayName": "Oliver Duerr",
      "photoUrl": "https://lh3.googleusercontent.com/a/default-user=s128",
      "userId": "115023668464573925389"
     },
     "user_tz": -120
    },
    "id": "F29zf1n6HRAR",
    "outputId": "312b2f23-56a1-4800-ee4c-5c49b299ec57"
   },
   "outputs": [
    {
     "name": "stdout",
     "output_type": "stream",
     "text": [
      "500\n",
      "2000\n"
     ]
    }
   ],
   "source": [
    "idx_known = np.where(np.in1d(y_test,[0,1]))[0]\n",
    "idx_unknown = np.where(np.in1d(y_test,[2,3,4,5,6,7,8,9]))[0]\n",
    "print(len(idx_known))\n",
    "print(len(idx_unknown))"
   ]
  },
  {
   "cell_type": "markdown",
   "metadata": {
    "colab_type": "text",
    "id": "oMgDgrBz03vI"
   },
   "source": [
    "#### labels that were used for training\n",
    "Here we plot the histograms of the means and the standard deviations for each image that we used in the trainingset."
   ]
  },
  {
   "cell_type": "code",
   "execution_count": 32,
   "metadata": {
    "colab": {
     "autoexec": {
      "startup": false,
      "wait_interval": 0
     },
     "base_uri": "https://localhost:8080/",
     "height": 543
    },
    "colab_type": "code",
    "executionInfo": {
     "elapsed": 721,
     "status": "ok",
     "timestamp": 1523292449050,
     "user": {
      "displayName": "Oliver Duerr",
      "photoUrl": "https://lh3.googleusercontent.com/a/default-user=s128",
      "userId": "115023668464573925389"
     },
     "user_tz": -120
    },
    "id": "6BX6hF-nXS8V",
    "outputId": "5bd1b66a-1d9b-45c6-dddb-2d8fca9b0c92"
   },
   "outputs": [
    {
     "data": {
      "image/png": "[encoded data removed]",
      "text/plain": [
       "<matplotlib.figure.Figure at 0x7f397de7b2b0>"
      ]
     },
     "metadata": {},
     "output_type": "display_data"
    },
    {
     "data": {
      "image/png": "[encoded data removed]",
      "text/plain": [
       "<matplotlib.figure.Figure at 0x7f39791ec588>"
      ]
     },
     "metadata": {},
     "output_type": "display_data"
    }
   ],
   "source": [
    "plt.hist(np.max(pred_means[idx_known],axis=1),bins=30)\n",
    "plt.title(\"predicted mean probability\")\n",
    "plt.show()\n",
    "plt.hist(pred_std[idx_known],bins=30)\n",
    "plt.title(\"std\")\n",
    "plt.show()"
   ]
  },
  {
   "cell_type": "markdown",
   "metadata": {
    "colab_type": "text",
    "id": "VLLel_FBEvam"
   },
   "source": [
    "##### c) Now, plot  the histogram of the mean values and the standard deviations for the labels that were not used in the trainingset. What do you observe when you compare the distributions of the means and the standard deviations of the known vs the unknown labels?\n",
    "Hint: Look at the code above and use *idx_unknown*"
   ]
  },
  {
   "cell_type": "markdown",
   "metadata": {
    "colab_type": "text",
    "id": "SDO_rUKG03vM"
   },
   "source": [
    "#### labels that were not used for training\n"
   ]
  },
  {
   "cell_type": "code",
   "execution_count": 33,
   "metadata": {
    "colab": {
     "autoexec": {
      "startup": false,
      "wait_interval": 0
     },
     "base_uri": "https://localhost:8080/",
     "height": 543
    },
    "colab_type": "code",
    "executionInfo": {
     "elapsed": 724,
     "status": "ok",
     "timestamp": 1523292468439,
     "user": {
      "displayName": "Oliver Duerr",
      "photoUrl": "https://lh3.googleusercontent.com/a/default-user=s128",
      "userId": "115023668464573925389"
     },
     "user_tz": -120
    },
    "id": "SW3dX2oXHRAo",
    "outputId": "dd4c9e61-7022-4bfd-bda1-92c5d3604b97"
   },
   "outputs": [
    {
     "data": {
      "image/png": "[encoded data removed]",
      "text/plain": [
       "<matplotlib.figure.Figure at 0x7f3979153048>"
      ]
     },
     "metadata": {},
     "output_type": "display_data"
    },
    {
     "data": {
      "image/png": "[encoded data removed]",
      "text/plain": [
       "<matplotlib.figure.Figure at 0x7f397913b898>"
      ]
     },
     "metadata": {},
     "output_type": "display_data"
    }
   ],
   "source": [
    "plt.hist(np.max(pred_means[idx_unknown],axis=1),bins=30)\n",
    "plt.title(\"predicted mean probability\")\n",
    "plt.show()\n",
    "plt.hist(pred_std[idx_unknown],bins=30)\n",
    "plt.title(\"std\")\n",
    "plt.show()"
   ]
  },
  {
   "cell_type": "code",
   "execution_count": 34,
   "metadata": {
    "colab": {
     "autoexec": {
      "startup": false,
      "wait_interval": 0
     },
     "base_uri": "https://localhost:8080/",
     "height": 34
    },
    "colab_type": "code",
    "executionInfo": {
     "elapsed": 472,
     "status": "ok",
     "timestamp": 1523292475976,
     "user": {
      "displayName": "Oliver Duerr",
      "photoUrl": "https://lh3.googleusercontent.com/a/default-user=s128",
      "userId": "115023668464573925389"
     },
     "user_tz": -120
    },
    "id": "7xMBbQnjHRBM",
    "outputId": "a213e257-45b0-4822-8637-9cab2a9b8905"
   },
   "outputs": [
    {
     "data": {
      "text/plain": [
       "0.182"
      ]
     },
     "execution_count": 34,
     "metadata": {},
     "output_type": "execute_result"
    }
   ],
   "source": [
    "np.sum(np.argmax(pred_means,axis=1)==y_test.reshape(len(y_test)))/len(y_test)"
   ]
  },
  {
   "cell_type": "markdown",
   "metadata": {},
   "source": [
    "#### Filter with std\n",
    "Now we will use the images with the lowest standard deviation and calculate the accuracy on those images, we hope that images with labels that were used in the trainingset, have a lower standard deviation than images with labels that were not used in the trainingset."
   ]
  },
  {
   "cell_type": "markdown",
   "metadata": {},
   "source": [
    "##### d) Try to understand the code below and interpret the accuracy plots"
   ]
  },
  {
   "cell_type": "code",
   "execution_count": 35,
   "metadata": {
    "colab": {
     "autoexec": {
      "startup": false,
      "wait_interval": 0
     },
     "base_uri": "https://localhost:8080/",
     "height": 34
    },
    "colab_type": "code",
    "executionInfo": {
     "elapsed": 477,
     "status": "ok",
     "timestamp": 1523292481635,
     "user": {
      "displayName": "Oliver Duerr",
      "photoUrl": "https://lh3.googleusercontent.com/a/default-user=s128",
      "userId": "115023668464573925389"
     },
     "user_tz": -120
    },
    "id": "AAd0e4w5BXNt",
    "outputId": "50079018-450e-4a11-fd14-c76f11cd2b77"
   },
   "outputs": [
    {
     "name": "stdout",
     "output_type": "stream",
     "text": [
      "[  9 155  61 230 169  29 213  88  48 167]\n",
      "[3.06137515e-08 8.01684834e-08 1.70564235e-07 1.94836758e-07\n",
      " 3.00667381e-07 4.34506518e-07 4.61824186e-07 5.06849119e-07\n",
      " 5.68047142e-07 5.93354002e-07]\n"
     ]
    }
   ],
   "source": [
    "# getting the index of the oberservation(image) with the smallest standard deviation\n",
    "d = np.sum(pred_std,axis=1)\n",
    "certainty_idx = np.argsort(d.reshape(len(d)))\n",
    "print(certainty_idx[0:10])\n",
    "print(d[certainty_idx[0:10]])"
   ]
  },
  {
   "cell_type": "code",
   "execution_count": 36,
   "metadata": {
    "colab": {
     "autoexec": {
      "startup": false,
      "wait_interval": 0
     }
    },
    "colab_type": "code",
    "id": "Ds5mroboJkUQ"
   },
   "outputs": [],
   "source": [
    "def acc_for_n_best(n_best):\n",
    "  return np.mean(np.argmax(pred_means[certainty_idx[0:n_best]], axis=1) == np.reshape(y_test[certainty_idx[0:n_best]], newshape=(n_best)))"
   ]
  },
  {
   "cell_type": "code",
   "execution_count": 37,
   "metadata": {
    "colab": {
     "autoexec": {
      "startup": false,
      "wait_interval": 0
     }
    },
    "colab_type": "code",
    "id": "AqHkwkw_LKGk"
   },
   "outputs": [],
   "source": [
    "acc_nbest = np.zeros((2499))\n",
    "for nbest in range(0,2499):\n",
    "  acc_nbest[nbest] = acc_for_n_best(nbest + 1)"
   ]
  },
  {
   "cell_type": "code",
   "execution_count": 38,
   "metadata": {
    "colab": {
     "autoexec": {
      "startup": false,
      "wait_interval": 0
     },
     "base_uri": "https://localhost:8080/",
     "height": 294
    },
    "colab_type": "code",
    "executionInfo": {
     "elapsed": 885,
     "status": "ok",
     "timestamp": 1523292489956,
     "user": {
      "displayName": "Oliver Duerr",
      "photoUrl": "https://lh3.googleusercontent.com/a/default-user=s128",
      "userId": "115023668464573925389"
     },
     "user_tz": -120
    },
    "id": "yHd5lw0ZMCmj",
    "outputId": "ccf97da1-664a-4f86-c790-d6be101cf2a7"
   },
   "outputs": [
    {
     "data": {
      "image/png": "[encoded data removed]",
      "text/plain": [
       "<matplotlib.figure.Figure at 0x7f39790526a0>"
      ]
     },
     "metadata": {},
     "output_type": "display_data"
    }
   ],
   "source": [
    "#plot the acc if we use the best n (1-2500) predictions (lowest std)\n",
    "plt.plot(acc_nbest)\n",
    "plt.title('Model Accuracy using std as a filter')\n",
    "plt.ylabel('accuracy')\n",
    "plt.xlabel('Number of Examples taken')\n",
    "plt.show()"
   ]
  },
  {
   "cell_type": "code",
   "execution_count": 39,
   "metadata": {
    "colab": {
     "autoexec": {
      "startup": false,
      "wait_interval": 0
     },
     "base_uri": "https://localhost:8080/",
     "height": 294
    },
    "colab_type": "code",
    "executionInfo": {
     "elapsed": 634,
     "status": "ok",
     "timestamp": 1523292493043,
     "user": {
      "displayName": "Oliver Duerr",
      "photoUrl": "https://lh3.googleusercontent.com/a/default-user=s128",
      "userId": "115023668464573925389"
     },
     "user_tz": -120
    },
    "id": "tlORBeJvNB8h",
    "outputId": "94ab7394-4cd4-414f-e039-86ef083da77a"
   },
   "outputs": [
    {
     "data": {
      "image/png": "[encoded data removed]",
      "text/plain": [
       "<matplotlib.figure.Figure at 0x7f397902f518>"
      ]
     },
     "metadata": {},
     "output_type": "display_data"
    }
   ],
   "source": [
    "#plot the acc if we use the best n (1-500) predictions (lowest std)\n",
    "plt.plot(acc_nbest)\n",
    "plt.xlim(0, 500)\n",
    "plt.title('Model Accuracy using std as a filter')\n",
    "plt.ylabel('accuracy')\n",
    "plt.xlabel('Number of Examples taken')\n",
    "plt.show()"
   ]
  },
  {
   "cell_type": "code",
   "execution_count": null,
   "metadata": {},
   "outputs": [],
   "source": []
  }
 ],
 "metadata": {
  "accelerator": "GPU",
  "colab": {
   "collapsed_sections": [
    "5Hn4Dbnj03uC"
   ],
   "default_view": {},
   "name": "cifar10_not_all_labels_MC_elvis.ipynb",
   "provenance": [],
   "version": "0.3.2",
   "views": {}
  },
  "kernelspec": {
   "display_name": "Python 3",
   "language": "python",
   "name": "python3"
  },
  "language_info": {
   "codemirror_mode": {
    "name": "ipython",
    "version": 3
   },
   "file_extension": ".py",
   "mimetype": "text/x-python",
   "name": "python",
   "nbconvert_exporter": "python",
   "pygments_lexer": "ipython3",
   "version": "3.5.2"
  }
 },
 "nbformat": 4,
 "nbformat_minor": 1
}
