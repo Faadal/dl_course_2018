{
 "cells": [
  {
   "cell_type": "markdown",
   "metadata": {},
   "source": [
    "# Tricks of the trade TF/Keras [small dataset]\n",
    "\n",
    "In this script we build a small multilayer perceptron with two hidden layers having 500 and 50 neurons each for classifying the MNIST database of handwritten digits using Keras. It uses a small data set so that it can be trained on the CPU.\n",
    "\n",
    "Below are several experiments."
   ]
  },
  {
   "cell_type": "code",
   "execution_count": 1,
   "metadata": {
    "scrolled": true
   },
   "outputs": [
    {
     "name": "stderr",
     "output_type": "stream",
     "text": [
      "/usr/local/lib/python3.5/dist-packages/h5py/__init__.py:36: FutureWarning: Conversion of the second argument of issubdtype from `float` to `np.floating` is deprecated. In future, it will be treated as `np.float64 == np.dtype(float).type`.\n",
      "  from ._conv import register_converters as _register_converters\n"
     ]
    },
    {
     "name": "stdout",
     "output_type": "stream",
     "text": [
      "Keras 2.1.4 TF 1.6.0 Python sys.version_info(major=3, minor=5, micro=2, releaselevel='final', serial=0)\n",
      "(4000, 1, 28, 28) (4000,) 28\n"
     ]
    },
    {
     "name": "stderr",
     "output_type": "stream",
     "text": [
      "Using TensorFlow backend.\n"
     ]
    }
   ],
   "source": [
    "%matplotlib inline\n",
    "import matplotlib.pyplot as plt\n",
    "import matplotlib.image as imgplot\n",
    "import numpy as np\n",
    "\n",
    "import time\n",
    "import tensorflow as tf\n",
    "tf.set_random_seed(1)\n",
    "\n",
    "from keras.models import Sequential\n",
    "from keras.layers import Dense, Activation, Dropout, BatchNormalization\n",
    "import keras\n",
    "import sys\n",
    "print (\"Keras {} TF {} Python {}\".format(keras.__version__, tf.__version__, sys.version_info))\n",
    "\n",
    "# To be compatible with python3 and python2\n",
    "try:\n",
    "    import cPickle as pickle\n",
    "except ImportError:\n",
    "    import pickle\n",
    "import gzip\n",
    "\n",
    "with gzip.open('../data/mnist_4000.pkl.gz', 'rb') as f:\n",
    "    if sys.version_info.major > 2:\n",
    "        (X,y) = pickle.load(f, encoding='latin1')\n",
    "    else:\n",
    "        (X,y) = pickle.load(f)\n",
    "PIXELS = len(X[0,0,0,:])\n",
    "\n",
    "print(X.shape, y.shape, PIXELS) #As read\n",
    "# We need to reshape for the MLP\n",
    "X = X.reshape([4000, 784])\n",
    "np.shape(X)\n",
    "\n",
    "# Taken from http://stackoverflow.com/questions/29831489/numpy-1-hot-array\n",
    "def convertToOneHot(vector, num_classes=None):\n",
    "    result = np.zeros((len(vector), num_classes), dtype='int32')\n",
    "    result[np.arange(len(vector)), vector] = 1\n",
    "    return result"
   ]
  },
  {
   "cell_type": "markdown",
   "metadata": {},
   "source": [
    "### Suggestions for the experiment\n",
    "\n",
    "Let the experiments run for 100 epochs. You might need to restart the kernel so that namings of the layers are the same\n",
    "\n",
    "* with init zero \n",
    "* with sigmoid activation \n",
    "* with ReLU activation\n",
    "* with dropout (p=0.3)\n",
    "* with batch-normalization and dropout"
   ]
  },
  {
   "cell_type": "code",
   "execution_count": null,
   "metadata": {},
   "outputs": [],
   "source": [
    "### First model with all zeros\n",
    "name = 'sigmoid_init0'\n",
    "model = Sequential()\n",
    "model.add(Dense(500, batch_input_shape=(None, 784), kernel_initializer='zero'))\n",
    "model.add(Activation('sigmoid'))\n",
    "\n",
    "model.add(Dense(50,kernel_initializer='zero'))\n",
    "model.add(Activation('sigmoid'))\n",
    "\n",
    "model.add(Dense(10, activation='softmax',kernel_initializer='zero'))\n",
    "model.compile(loss='categorical_crossentropy',\n",
    "              optimizer='adadelta',\n",
    "              metrics=['accuracy'])"
   ]
  },
  {
   "cell_type": "code",
   "execution_count": null,
   "metadata": {},
   "outputs": [],
   "source": [
    "### Model with default initialization \n",
    "name = 'sigmoid'\n",
    "model = Sequential()\n",
    "\n",
    "model.add(Dense(500, batch_input_shape=(None, 784)))\n",
    "model.add(Activation('sigmoid'))\n",
    "\n",
    "model.add(Dense(50))\n",
    "model.add(Activation('sigmoid'))\n",
    "\n",
    "model.add(Dense(10, activation='softmax'))\n",
    "model.compile(loss='categorical_crossentropy',\n",
    "              optimizer='adadelta',\n",
    "              metrics=['accuracy'])"
   ]
  },
  {
   "cell_type": "code",
   "execution_count": null,
   "metadata": {},
   "outputs": [],
   "source": [
    "### Relu \n",
    "name = 'relu'\n",
    "model = Sequential()\n",
    "\n",
    "model.add(Dense(500, batch_input_shape=(None, 784)))\n",
    "model.add(Activation('relu'))\n",
    "\n",
    "model.add(Dense(50))\n",
    "model.add(Activation('relu'))\n",
    "\n",
    "model.add(Dense(10, activation='softmax'))\n",
    "model.compile(loss='categorical_crossentropy',\n",
    "              optimizer='adadelta',\n",
    "              metrics=['accuracy'])"
   ]
  },
  {
   "cell_type": "code",
   "execution_count": null,
   "metadata": {},
   "outputs": [],
   "source": [
    "### Dropout\n",
    "name = 'dropout'\n",
    "model = Sequential()\n",
    "model.add(Dense(500, batch_input_shape=(None, 784)))\n",
    "model.add(Dropout(0.3))\n",
    "model.add(Activation('relu'))\n",
    "\n",
    "model.add(Dense(50))\n",
    "model.add(Dropout(0.3))\n",
    "model.add(Activation('relu'))\n",
    "\n",
    "model.add(Dense(10, activation='softmax'))\n",
    "model.compile(loss='categorical_crossentropy',\n",
    "              optimizer='adadelta',\n",
    "              metrics=['accuracy'])"
   ]
  },
  {
   "cell_type": "code",
   "execution_count": 2,
   "metadata": {},
   "outputs": [],
   "source": [
    "### Batchnorm\n",
    "name = 'batch_dropout'\n",
    "model = Sequential()\n",
    "\n",
    "model.add(Dense(500, batch_input_shape=(None, 784)))\n",
    "model.add(keras.layers.normalization.BatchNormalization())\n",
    "model.add(Dropout(0.3))\n",
    "model.add(Activation('relu'))\n",
    "\n",
    "model.add(Dense(50))\n",
    "model.add(keras.layers.normalization.BatchNormalization())\n",
    "model.add(Dropout(0.3))\n",
    "model.add(Activation('relu'))\n",
    "\n",
    "model.add(Dense(10, activation='softmax'))\n",
    "model.compile(loss='categorical_crossentropy',\n",
    "              optimizer='adadelta',\n",
    "              metrics=['accuracy'])"
   ]
  },
  {
   "cell_type": "code",
   "execution_count": 3,
   "metadata": {},
   "outputs": [
    {
     "name": "stdout",
     "output_type": "stream",
     "text": [
      "_________________________________________________________________\n",
      "Layer (type)                 Output Shape              Param #   \n",
      "=================================================================\n",
      "dense_1 (Dense)              (None, 500)               392500    \n",
      "_________________________________________________________________\n",
      "batch_normalization_1 (Batch (None, 500)               2000      \n",
      "_________________________________________________________________\n",
      "dropout_1 (Dropout)          (None, 500)               0         \n",
      "_________________________________________________________________\n",
      "activation_1 (Activation)    (None, 500)               0         \n",
      "_________________________________________________________________\n",
      "dense_2 (Dense)              (None, 50)                25050     \n",
      "_________________________________________________________________\n",
      "batch_normalization_2 (Batch (None, 50)                200       \n",
      "_________________________________________________________________\n",
      "dropout_2 (Dropout)          (None, 50)                0         \n",
      "_________________________________________________________________\n",
      "activation_2 (Activation)    (None, 50)                0         \n",
      "_________________________________________________________________\n",
      "dense_3 (Dense)              (None, 10)                510       \n",
      "=================================================================\n",
      "Total params: 420,260\n",
      "Trainable params: 419,160\n",
      "Non-trainable params: 1,100\n",
      "_________________________________________________________________\n"
     ]
    }
   ],
   "source": [
    "model.summary()"
   ]
  },
  {
   "cell_type": "markdown",
   "metadata": {},
   "source": [
    "### Untrained model\n"
   ]
  },
  {
   "cell_type": "code",
   "execution_count": 4,
   "metadata": {},
   "outputs": [
    {
     "data": {
      "text/plain": [
       "-2.3025850929940455"
      ]
     },
     "execution_count": 4,
     "metadata": {},
     "output_type": "execute_result"
    }
   ],
   "source": [
    "np.log(0.1)"
   ]
  },
  {
   "cell_type": "code",
   "execution_count": 5,
   "metadata": {},
   "outputs": [
    {
     "name": "stdout",
     "output_type": "stream",
     "text": [
      "2000/2000 [==============================] - 0s 215us/step\n"
     ]
    },
    {
     "data": {
      "text/plain": [
       "[2.5549037284851073, 0.1085]"
      ]
     },
     "execution_count": 5,
     "metadata": {},
     "output_type": "execute_result"
    }
   ],
   "source": [
    "model.evaluate(X[0:2000], convertToOneHot(y[0:2000],10))"
   ]
  },
  {
   "cell_type": "code",
   "execution_count": 6,
   "metadata": {},
   "outputs": [
    {
     "data": {
      "text/plain": [
       "array([0, 9, 9, 1, 6, 9, 8, 9, 0, 0])"
      ]
     },
     "execution_count": 6,
     "metadata": {},
     "output_type": "execute_result"
    }
   ],
   "source": [
    "model.predict_classes(X[0:10])"
   ]
  },
  {
   "cell_type": "markdown",
   "metadata": {},
   "source": [
    "## Training"
   ]
  },
  {
   "cell_type": "code",
   "execution_count": 7,
   "metadata": {
    "scrolled": false
   },
   "outputs": [
    {
     "name": "stdout",
     "output_type": "stream",
     "text": [
      "Train on 2400 samples, validate on 600 samples\n",
      "Epoch 1/30\n",
      " - 1s - loss: 1.4514 - acc: 0.5538 - val_loss: 0.7087 - val_acc: 0.8417\n",
      "Epoch 2/30\n",
      " - 1s - loss: 0.7532 - acc: 0.8225 - val_loss: 0.5463 - val_acc: 0.8700\n",
      "Epoch 3/30\n",
      " - 1s - loss: 0.5644 - acc: 0.8783 - val_loss: 0.4646 - val_acc: 0.8883\n",
      "Epoch 4/30\n",
      " - 1s - loss: 0.4565 - acc: 0.9050 - val_loss: 0.4092 - val_acc: 0.8917\n",
      "Epoch 5/30\n",
      " - 1s - loss: 0.3790 - acc: 0.9258 - val_loss: 0.3852 - val_acc: 0.8917\n",
      "Epoch 6/30\n",
      " - 1s - loss: 0.3230 - acc: 0.9350 - val_loss: 0.3605 - val_acc: 0.9050\n",
      "Epoch 7/30\n",
      " - 1s - loss: 0.2776 - acc: 0.9412 - val_loss: 0.3434 - val_acc: 0.9100\n",
      "Epoch 8/30\n",
      " - 1s - loss: 0.2368 - acc: 0.9546 - val_loss: 0.3308 - val_acc: 0.9117\n",
      "Epoch 9/30\n",
      " - 1s - loss: 0.2143 - acc: 0.9613 - val_loss: 0.3222 - val_acc: 0.9167\n",
      "Epoch 10/30\n",
      " - 1s - loss: 0.1707 - acc: 0.9675 - val_loss: 0.3200 - val_acc: 0.9183\n",
      "Epoch 11/30\n",
      " - 1s - loss: 0.1633 - acc: 0.9704 - val_loss: 0.3210 - val_acc: 0.9200\n",
      "Epoch 12/30\n",
      " - 1s - loss: 0.1431 - acc: 0.9738 - val_loss: 0.3169 - val_acc: 0.9133\n",
      "Epoch 13/30\n",
      " - 1s - loss: 0.1337 - acc: 0.9779 - val_loss: 0.3167 - val_acc: 0.9183\n",
      "Epoch 14/30\n",
      " - 1s - loss: 0.1138 - acc: 0.9788 - val_loss: 0.3206 - val_acc: 0.9133\n",
      "Epoch 15/30\n",
      " - 1s - loss: 0.0998 - acc: 0.9829 - val_loss: 0.3215 - val_acc: 0.9150\n",
      "Epoch 16/30\n",
      " - 1s - loss: 0.0902 - acc: 0.9867 - val_loss: 0.3198 - val_acc: 0.9200\n",
      "Epoch 17/30\n",
      " - 1s - loss: 0.0825 - acc: 0.9875 - val_loss: 0.3026 - val_acc: 0.9200\n",
      "Epoch 18/30\n",
      " - 1s - loss: 0.0623 - acc: 0.9921 - val_loss: 0.3156 - val_acc: 0.9167\n",
      "Epoch 19/30\n",
      " - 1s - loss: 0.0643 - acc: 0.9925 - val_loss: 0.3135 - val_acc: 0.9183\n",
      "Epoch 20/30\n",
      " - 1s - loss: 0.0623 - acc: 0.9900 - val_loss: 0.3132 - val_acc: 0.9200\n",
      "Epoch 21/30\n",
      " - 1s - loss: 0.0497 - acc: 0.9942 - val_loss: 0.3412 - val_acc: 0.9100\n",
      "Epoch 22/30\n",
      " - 1s - loss: 0.0499 - acc: 0.9921 - val_loss: 0.3182 - val_acc: 0.9217\n",
      "Epoch 23/30\n",
      " - 1s - loss: 0.0436 - acc: 0.9950 - val_loss: 0.3275 - val_acc: 0.9150\n",
      "Epoch 24/30\n",
      " - 1s - loss: 0.0443 - acc: 0.9917 - val_loss: 0.3456 - val_acc: 0.9233\n",
      "Epoch 25/30\n",
      " - 1s - loss: 0.0443 - acc: 0.9925 - val_loss: 0.3391 - val_acc: 0.9200\n",
      "Epoch 26/30\n",
      " - 1s - loss: 0.0358 - acc: 0.9954 - val_loss: 0.3394 - val_acc: 0.9150\n",
      "Epoch 27/30\n",
      " - 1s - loss: 0.0303 - acc: 0.9954 - val_loss: 0.3513 - val_acc: 0.9183\n",
      "Epoch 28/30\n",
      " - 1s - loss: 0.0301 - acc: 0.9962 - val_loss: 0.3476 - val_acc: 0.9150\n",
      "Epoch 29/30\n",
      " - 1s - loss: 0.0289 - acc: 0.9950 - val_loss: 0.3602 - val_acc: 0.9133\n",
      "Epoch 30/30\n",
      " - 1s - loss: 0.0281 - acc: 0.9950 - val_loss: 0.3641 - val_acc: 0.9183\n"
     ]
    }
   ],
   "source": [
    "tensorboard = keras.callbacks.TensorBoard(\n",
    "    log_dir='tensorboard/mnist_small/' + name + '/', \n",
    "    write_graph=True,\n",
    "    histogram_freq=1\n",
    ")\n",
    "history = model.fit(X[0:2400], \n",
    "          convertToOneHot(y[0:2400],10), \n",
    "          epochs=30, \n",
    "          batch_size=128, \n",
    "          callbacks=[tensorboard],\n",
    "          validation_data=[X[2400:3000], convertToOneHot(y[2400:3000],10)], verbose=2)\n"
   ]
  },
  {
   "cell_type": "code",
   "execution_count": 8,
   "metadata": {},
   "outputs": [
    {
     "data": {
      "image/png": "[encoded data removed]",
      "text/plain": [
       "<matplotlib.figure.Figure at 0x7f0d35368b70>"
      ]
     },
     "metadata": {},
     "output_type": "display_data"
    }
   ],
   "source": [
    "plt.plot(history.history['acc'])\n",
    "plt.plot(history.history['val_acc'])\n",
    "plt.title('model accuracy')\n",
    "plt.ylabel('accuracy')\n",
    "plt.xlabel('epoch')\n",
    "plt.legend(['train acc', 'test acc'], loc='lower right')\n",
    "plt.show()"
   ]
  },
  {
   "cell_type": "code",
   "execution_count": 9,
   "metadata": {},
   "outputs": [
    {
     "data": {
      "image/png": "[encoded data removed]",
      "text/plain": [
       "<matplotlib.figure.Figure at 0x7f0d2d898198>"
      ]
     },
     "metadata": {},
     "output_type": "display_data"
    }
   ],
   "source": [
    "plt.plot(history.history['loss'])\n",
    "plt.plot(history.history['val_loss'])\n",
    "plt.title('model loss')\n",
    "plt.ylabel('loss')\n",
    "plt.xlabel('epoch')\n",
    "plt.legend(['train loss', 'test loss'], loc='upper right')\n",
    "plt.show()"
   ]
  },
  {
   "cell_type": "code",
   "execution_count": null,
   "metadata": {},
   "outputs": [],
   "source": [
    "!tensorboard --logdir=tensorboard/mnist_small/"
   ]
  }
 ],
 "metadata": {
  "kernelspec": {
   "display_name": "Python 3",
   "language": "python",
   "name": "python3"
  },
  "language_info": {
   "codemirror_mode": {
    "name": "ipython",
    "version": 3
   },
   "file_extension": ".py",
   "mimetype": "text/x-python",
   "name": "python",
   "nbconvert_exporter": "python",
   "pygments_lexer": "ipython3",
   "version": "3.5.2"
  }
 },
 "nbformat": 4,
 "nbformat_minor": 1
}
